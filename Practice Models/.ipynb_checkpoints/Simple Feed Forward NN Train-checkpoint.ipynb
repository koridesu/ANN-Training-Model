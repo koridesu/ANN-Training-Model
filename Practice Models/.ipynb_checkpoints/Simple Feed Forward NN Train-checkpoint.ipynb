{
 "cells": [
  {
   "cell_type": "code",
   "execution_count": 167,
   "metadata": {
    "scrolled": true
   },
   "outputs": [
    {
     "name": "stdout",
     "output_type": "stream",
     "text": [
      "[[0.3223482]\n",
      " [0.3223482]\n",
      " [0.3223482]\n",
      " [0.3223482]\n",
      " [0.3223482]\n",
      " [0.3223482]\n",
      " [0.3223482]\n",
      " [0.3223482]\n",
      " [0.3223482]\n",
      " [0.3223482]\n",
      " [0.3223482]\n",
      " [0.3223482]\n",
      " [0.3223482]\n",
      " [0.3223482]\n",
      " [0.3223482]\n",
      " [0.3223482]\n",
      " [0.3223482]\n",
      " [0.3223482]\n",
      " [0.3223482]\n",
      " [0.3223482]\n",
      " [0.3223482]\n",
      " [0.3223482]\n",
      " [0.3280002]\n",
      " [0.3319561]\n",
      " [0.335912 ]\n",
      " [0.335912 ]\n",
      " [0.3398679]\n",
      " [0.3438237]\n",
      " [0.3477796]\n",
      " [0.3517355]\n",
      " [0.3551482]\n",
      " [0.3572643]\n",
      " [0.3572643]\n",
      " [0.3574536]\n",
      " [0.3560351]\n",
      " [0.3534665]\n",
      " [0.3497555]\n",
      " [0.3449343]\n",
      " [0.3449343]\n",
      " [0.3391261]\n",
      " [0.3324079]\n",
      " [0.3264768]\n",
      " [0.322521 ]\n",
      " [0.3208827]\n",
      " [0.3208827]\n",
      " [0.3211197]\n",
      " [0.3226575]\n",
      " [0.3248826]\n",
      " [0.3270627]\n",
      " [0.3286911]\n",
      " [0.3286911]\n",
      " [0.3295791]\n",
      " [0.3298076]\n",
      " [0.3295164]\n",
      " [0.328864 ]\n",
      " [0.3280922]\n",
      " [0.3274356]\n",
      " [0.3274356]\n",
      " [0.3270143]\n",
      " [0.327011 ]]\n"
     ]
    }
   ],
   "source": [
    "import tensorflow as tf\n",
    "import pandas as pd\n",
    "import numpy as np\n",
    "\n",
    "from keras.models import Sequential\n",
    "from keras.layers import Dense, Activation\n",
    "import keras.backend as K\n",
    "\n",
    "\n",
    "data = pd.read_csv(\"Blocks/BlockData1.txt\")\n",
    "x_train = data.iloc[:,0:1].values\n",
    "y_train = data.iloc[:,1:2].values\n",
    "print(y_train)\n",
    "\n",
    "\n",
    "rand = np.random.random((1000,1))\n",
    "layers = np.random.randint(2,size=(1000,1))\n"
   ]
  },
  {
   "cell_type": "code",
   "execution_count": 151,
   "metadata": {},
   "outputs": [],
   "source": [
    "model = Sequential()\n",
    "model.add(Dense(32, activation = 'relu', input_dim=1))\n",
    "model.add(Dense(1, activation = 'sigmoid'))"
   ]
  },
  {
   "cell_type": "code",
   "execution_count": 163,
   "metadata": {},
   "outputs": [
    {
     "name": "stdout",
     "output_type": "stream",
     "text": [
      "_________________________________________________________________\n",
      "Layer (type)                 Output Shape              Param #   \n",
      "=================================================================\n",
      "dense_44 (Dense)             (None, 32)                64        \n",
      "_________________________________________________________________\n",
      "dense_45 (Dense)             (None, 1)                 33        \n",
      "=================================================================\n",
      "Total params: 97\n",
      "Trainable params: 97\n",
      "Non-trainable params: 0\n",
      "_________________________________________________________________\n"
     ]
    }
   ],
   "source": [
    "def mean_pred(t, p):\n",
    "    return K.mean(p)\n",
    "\n",
    "model.compile(optimizer='rmsprop',\n",
    "              loss='binary_crossentropy',\n",
    "              metrics=[ mean_pred])\n",
    "model.summary()"
   ]
  },
  {
   "cell_type": "code",
   "execution_count": 164,
   "metadata": {},
   "outputs": [
    {
     "name": "stdout",
     "output_type": "stream",
     "text": [
      "Train on 48 samples, validate on 12 samples\n",
      "Epoch 1/10\n",
      "48/48 [==============================] - 1s 16ms/step - loss: 0.6658 - mean_pred: 0.4529 - val_loss: 0.6624 - val_mean_pred: 0.4473\n",
      "Epoch 2/10\n",
      "48/48 [==============================] - 0s 421us/step - loss: 0.6627 - mean_pred: 0.4463 - val_loss: 0.6602 - val_mean_pred: 0.4426\n",
      "Epoch 3/10\n",
      "48/48 [==============================] - 0s 101us/step - loss: 0.6606 - mean_pred: 0.4417 - val_loss: 0.6585 - val_mean_pred: 0.4390\n",
      "Epoch 4/10\n",
      "48/48 [==============================] - 0s 104us/step - loss: 0.6590 - mean_pred: 0.4382 - val_loss: 0.6572 - val_mean_pred: 0.4359\n",
      "Epoch 5/10\n",
      "48/48 [==============================] - 0s 125us/step - loss: 0.6577 - mean_pred: 0.4351 - val_loss: 0.6559 - val_mean_pred: 0.4331\n",
      "Epoch 6/10\n",
      "48/48 [==============================] - 0s 125us/step - loss: 0.6566 - mean_pred: 0.4323 - val_loss: 0.6548 - val_mean_pred: 0.4303\n",
      "Epoch 7/10\n",
      "48/48 [==============================] - 0s 166us/step - loss: 0.6554 - mean_pred: 0.4295 - val_loss: 0.6537 - val_mean_pred: 0.4277\n",
      "Epoch 8/10\n",
      "48/48 [==============================] - 0s 145us/step - loss: 0.6544 - mean_pred: 0.4269 - val_loss: 0.6527 - val_mean_pred: 0.4252\n",
      "Epoch 9/10\n",
      "48/48 [==============================] - 0s 125us/step - loss: 0.6534 - mean_pred: 0.4244 - val_loss: 0.6517 - val_mean_pred: 0.4227\n",
      "Epoch 10/10\n",
      "48/48 [==============================] - 0s 145us/step - loss: 0.6525 - mean_pred: 0.4219 - val_loss: 0.6508 - val_mean_pred: 0.4202\n"
     ]
    },
    {
     "data": {
      "text/plain": [
       "<keras.callbacks.History at 0x1c7d5689488>"
      ]
     },
     "execution_count": 164,
     "metadata": {},
     "output_type": "execute_result"
    }
   ],
   "source": [
    "model.fit(x_train,\n",
    "          y_train,\n",
    "          batch_size=32, \n",
    "          epochs = 10,\n",
    "          callbacks= None,\n",
    "          validation_split = 0.2,\n",
    "          shuffle= True,\n",
    "         )"
   ]
  },
  {
   "cell_type": "code",
   "execution_count": null,
   "metadata": {},
   "outputs": [],
   "source": [
    "model = tf.keras.models.Sequential([\n",
    "    tf.keras.layers.InputLayer(input_shape=(60)),\n",
    "    tf.keras.layers.Dense(60, activation = 'relu'),\n",
    "    tf.keras.layers.Dense(1,activation='softmax')\n",
    "])\n",
    "model.summary()\n"
   ]
  }
 ],
 "metadata": {
  "kernelspec": {
   "display_name": "Python 3",
   "language": "python",
   "name": "python3"
  },
  "language_info": {
   "codemirror_mode": {
    "name": "ipython",
    "version": 3
   },
   "file_extension": ".py",
   "mimetype": "text/x-python",
   "name": "python",
   "nbconvert_exporter": "python",
   "pygments_lexer": "ipython3",
   "version": "3.7.5"
  }
 },
 "nbformat": 4,
 "nbformat_minor": 2
}

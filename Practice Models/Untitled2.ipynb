{
 "cells": [
  {
   "cell_type": "code",
   "execution_count": 2,
   "metadata": {},
   "outputs": [
    {
     "name": "stdout",
     "output_type": "stream",
     "text": [
      "<class 'numpy.ndarray'>\n"
     ]
    }
   ],
   "source": [
    "import torch \n",
    "import torch.nn as nn\n",
    "import pandas as pd\n",
    "import numpy as np\n",
    "import matplotlib.pyplot as plt\n",
    "from numpy import genfromtxt\n",
    "%matplotlib inline\n",
    "\n",
    "train = pd.read_csv(\"Blocks/BlockData1.txt\")\n",
    "train_tensor = torch.tensor(train.values)\n",
    "\n",
    "test = pd.read_csv(\"Blocks/BlockData2.txt\")\n",
    "test_tensor = torch.tensor(test.values)\n",
    "\n",
    "\n",
    "data = np.loadtxt(\"Blocks/BlockData1.txt\",skiprows=0)\n",
    "print(type(data))"
   ]
  },
  {
   "cell_type": "code",
   "execution_count": 4,
   "metadata": {},
   "outputs": [
    {
     "name": "stdout",
     "output_type": "stream",
     "text": [
      "tensor([0.4599, 0.4599, 0.4599, 0.4599, 0.4599, 0.4599, 0.4599, 0.4599, 0.4599,\n",
      "        0.4599, 0.4599, 0.4599, 0.4599, 0.4599, 0.4599, 0.4599, 0.4599, 0.4599,\n",
      "        0.4599, 0.4599, 0.4599, 0.4599, 0.4599, 0.4706, 0.4797, 0.4880, 0.4963,\n",
      "        0.5046, 0.5046, 0.5129, 0.5212, 0.5298, 0.5381, 0.5461, 0.5461, 0.5541,\n",
      "        0.5616, 0.5690, 0.5767, 0.5844, 0.5844, 0.5924, 0.6007, 0.6089, 0.6171,\n",
      "        0.6258, 0.6344, 0.6344, 0.6433, 0.6526, 0.6621, 0.6718, 0.6821, 0.6821,\n",
      "        0.6928, 0.7040, 0.7157, 0.7279, 0.7407, 0.7540, 0.7540, 0.7681, 0.7826,\n",
      "        0.7980, 0.8139, 0.8307, 0.8480, 0.8480, 0.8660, 0.8845, 0.9035, 0.9229,\n",
      "        0.9425, 0.9425, 0.9623, 0.9821, 1.0019, 1.0217, 1.0415, 1.0415, 1.0613,\n",
      "        1.0811, 1.1009, 1.1207, 1.1405, 1.1603, 1.1603, 1.1801, 1.1999, 1.1932,\n",
      "        1.1831, 1.1747, 1.1747, 1.1662, 1.1567, 1.1458, 1.1338, 1.1205, 1.1205,\n",
      "        1.1060, 1.0904, 1.0737, 1.0559, 1.0390, 1.0390, 1.0279, 1.0224, 1.0192,\n",
      "        1.0171, 1.0148, 1.0119, 1.0119, 1.0086, 1.0047, 1.0009, 0.9971, 0.9933,\n",
      "        0.9933, 0.9904, 0.9883, 0.9883, 0.9887, 0.9893, 0.9893, 0.9899, 0.9901,\n",
      "        0.9902, 0.9901, 0.9901, 0.9901, 0.9901, 0.9901, 0.9901, 0.9901, 0.9901,\n",
      "        0.9901, 0.9901, 0.9901, 0.9901, 0.9901, 0.9901, 0.9901, 0.9901, 0.9901,\n",
      "        0.9901, 0.9901], dtype=torch.float64)\n"
     ]
    }
   ],
   "source": [
    "\n",
    "print(torch.as_tensor(data))"
   ]
  },
  {
   "cell_type": "code",
   "execution_count": null,
   "metadata": {},
   "outputs": [],
   "source": []
  }
 ],
 "metadata": {
  "kernelspec": {
   "display_name": "Python 3",
   "language": "python",
   "name": "python3"
  },
  "language_info": {
   "codemirror_mode": {
    "name": "ipython",
    "version": 3
   },
   "file_extension": ".py",
   "mimetype": "text/x-python",
   "name": "python",
   "nbconvert_exporter": "python",
   "pygments_lexer": "ipython3",
   "version": "3.7.5"
  }
 },
 "nbformat": 4,
 "nbformat_minor": 2
}
